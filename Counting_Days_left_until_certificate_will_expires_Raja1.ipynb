{
 "cells": [
  {
   "cell_type": "markdown",
   "metadata": {},
   "source": [
    "# This code will return how many days is left untill the certificate of a website will expire."
   ]
  },
  {
   "cell_type": "code",
   "execution_count": 133,
   "metadata": {},
   "outputs": [],
   "source": [
    "import ssl, socket\n",
    "from datetime import date"
   ]
  },
  {
   "cell_type": "code",
   "execution_count": 134,
   "metadata": {},
   "outputs": [],
   "source": [
    "## fetching certificate details from given url and port\n",
    "hostname = 'google.com'\n",
    "port=443\n",
    "ctx = ssl.create_default_context()\n",
    "with ctx.wrap_socket(socket.socket(), server_hostname=hostname) as s:\n",
    "    s.connect((hostname, port))\n",
    "    cert = s.getpeercert()\n"
   ]
  },
  {
   "cell_type": "code",
   "execution_count": 135,
   "metadata": {},
   "outputs": [],
   "source": [
    "#Storing information about date of expiration\n",
    "valid_upto=cert['notAfter']\n",
    "cert_info_lst=valid_upto.split(\" \")\n",
    "cert_month=month_name_to_num(cert_info_lst[0])\n",
    "cert_day=int(cert_info_lst[1])\n",
    "cert_year=int(cert_info_lst[3])"
   ]
  },
  {
   "cell_type": "code",
   "execution_count": 139,
   "metadata": {},
   "outputs": [
    {
     "name": "stdout",
     "output_type": "stream",
     "text": [
      "2020-09-28\n"
     ]
    }
   ],
   "source": [
    "# Collecting todays day and date annd year information\n",
    "today = date.today()\n",
    "today_date = today.strftime(\"%b-%d-%Y\")\n",
    "today_info_lst=today_date.split(\"-\")\n",
    "\n",
    "# changing to int for comparision\n",
    "today_month=month_name_to_num(today_info_lst[0])\n",
    "today_day=int(today_info_lst[1])\n",
    "today_year=int(today_info_lst[2])\n",
    "print(today)"
   ]
  },
  {
   "cell_type": "code",
   "execution_count": 140,
   "metadata": {},
   "outputs": [],
   "source": [
    "# change the short name of month to its int value\n",
    "def month_name_to_num(month):\n",
    "    month=month[0:3]\n",
    "    month=month.lower()\n",
    "    maping ={ 'jan' : 1,'feb' : 2,'mar' : 3,'apr' : 4,'may' : 5,'jun' : 6,'jul' : 7,'aug' : 8,'sep' : 9, 'oct' : 10,'nov' : 11,\n",
    "            'dec' : 12}\n",
    "    return maping[month]"
   ]
  },
  {
   "cell_type": "code",
   "execution_count": 122,
   "metadata": {},
   "outputs": [],
   "source": [
    "# Main code this will calculate days remaining \n",
    "def willExpire_in_how_many_days(cert_day,cert_month,cert_year,today_day,today_month,today_year):\n",
    "    count_days=0\n",
    "    month_having_31_days={1,3,5,7,8,10,12}\n",
    "    month_having_30_days={4,6,9,11}\n",
    "    \n",
    "    # checking every corner cases\n",
    "    if today_year>cert_year:\n",
    "         count_days=0 \n",
    "        \n",
    "    elif today_year==cert_year:\n",
    "        if today_month>cert_month:\n",
    "            count_days=0\n",
    "        elif today_month==cert_month:\n",
    "            if today_day>cert_day:\n",
    "                count_days=0\n",
    "            else:\n",
    "                count_days=cert_day-today_day\n",
    "        else:\n",
    "             # adding today month days to days_count!!\n",
    "                count_days=count_days+remaing_days_in_first_month(today_day,today_month,today_year)\n",
    "            \n",
    "                today_month=today_month+1\n",
    "            \n",
    "             # adding all months days which lies in between todday month and cert month!!\n",
    "                while today_month<cert_month:\n",
    "                        count_days=count_days+coutning_days_in_current_month(today_month)\n",
    "                        today_month=today_month+1\n",
    "            \n",
    "            # adding last month days to days_count!!\n",
    "                count_days=count_days+cert_day\n",
    "                \n",
    "    else: \n",
    "             while today_year<cert_year:\n",
    "                 while today_month%13!=cert_month:\n",
    "                    count_days=count_days+coutning_days_in_current_month(today_month)\n",
    "                    if today_month==12:\n",
    "                        today_year=today_year+1;\n",
    "                    if today_month==13:\n",
    "                        today_month==1\n",
    "                \n",
    "            \n",
    "    return count_days   \n",
    "# Returning the days count"
   ]
  },
  {
   "cell_type": "code",
   "execution_count": 123,
   "metadata": {},
   "outputs": [],
   "source": [
    "# leap_year function to handle leap year if occured\n",
    "def leap_year(year):\n",
    "    if (year % 4) == 0:\n",
    "        if (year % 100) == 0:\n",
    "            if (year % 400) == 0:\n",
    "                return True\n",
    "            else: \n",
    "                False\n",
    "        else:\n",
    "            False\n",
    "    else:\n",
    "        False"
   ]
  },
  {
   "cell_type": "code",
   "execution_count": 124,
   "metadata": {},
   "outputs": [],
   "source": [
    "# countingh days left in the current month\n",
    "def remaing_days_in_first_month(today_day,today_month,today_year):\n",
    "    this_month_days=0\n",
    "    month_having_31_days={1,3,5,7,8,10,12}\n",
    "    month_having_30_days={4,6,9,11}\n",
    "    \n",
    "    if today_month in month_having_31_days:\n",
    "        this_month_days=this_month_days+(31-today_day)\n",
    "    elif today_month in month_having_30_days:\n",
    "        this_month_days=this_month_days+(30-today_day)\n",
    "    elif leap_year(today_year):\n",
    "        this_month_days=this_month_days+(29-today_day)\n",
    "    else:\n",
    "        this_month_days=this_month_days+(28-today_day)\n",
    "    return this_month_days"
   ]
  },
  {
   "cell_type": "code",
   "execution_count": 125,
   "metadata": {},
   "outputs": [],
   "source": [
    "# this function will return days corresponding to month\n",
    "def coutning_days_in_current_month(today_month):\n",
    "    \n",
    "    month_having_31_days={1,3,5,7,8,10,12}\n",
    "    month_having_30_days={4,6,9,11}\n",
    "    \n",
    "    if today_month in month_having_31_days:\n",
    "        return 31\n",
    "    elif today_month in month_having_30_days:\n",
    "        return 30\n",
    "    elif leap_year(today_year):\n",
    "         return 29\n",
    "    else:\n",
    "        return 28\n",
    "            "
   ]
  },
  {
   "cell_type": "code",
   "execution_count": 126,
   "metadata": {},
   "outputs": [
    {
     "name": "stdout",
     "output_type": "stream",
     "text": [
      "59\n"
     ]
    }
   ],
   "source": [
    "#calling function to print the days left!!\n",
    "print(willExpire_in_how_many_days(cert_day,cert_month,cert_year,today_day,today_month,today_year))"
   ]
  },
  {
   "cell_type": "code",
   "execution_count": 83,
   "metadata": {},
   "outputs": [],
   "source": []
  },
  {
   "cell_type": "code",
   "execution_count": null,
   "metadata": {},
   "outputs": [],
   "source": []
  }
 ],
 "metadata": {
  "kernelspec": {
   "display_name": "Python 3",
   "language": "python",
   "name": "python3"
  },
  "language_info": {
   "codemirror_mode": {
    "name": "ipython",
    "version": 3
   },
   "file_extension": ".py",
   "mimetype": "text/x-python",
   "name": "python",
   "nbconvert_exporter": "python",
   "pygments_lexer": "ipython3",
   "version": "3.7.3"
  }
 },
 "nbformat": 4,
 "nbformat_minor": 2
}
